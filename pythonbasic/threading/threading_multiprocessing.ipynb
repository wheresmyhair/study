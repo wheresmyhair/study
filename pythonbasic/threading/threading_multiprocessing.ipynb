{
 "cells": [
  {
   "cell_type": "markdown",
   "metadata": {},
   "source": [
    "# 什么时候用多核心优势\n",
    "- CPU密集型任务：多进程\n",
    "- IO密集型任务：多线程"
   ]
  },
  {
   "cell_type": "code",
   "execution_count": 11,
   "metadata": {},
   "outputs": [],
   "source": [
    "import time \n",
    "import threading\n",
    "import functools\n",
    "\n",
    "def timer(func):\n",
    "    @functools.wraps(func)\n",
    "    def inner(*args, **kwargs):\n",
    "        start_time = time.time()\n",
    "        print('start time: ', start_time)\n",
    "        value = func(*args, **kwargs)\n",
    "        print(time.time() - start_time)\n",
    "        return value\n",
    "    return inner\n",
    "\n",
    "class ThreadWithReturn(threading.Thread):\n",
    "    def __init__(self, rng):\n",
    "        threading.Thread.__init__(self)\n",
    "        self.result = 0\n",
    "        self.rng = rng\n",
    "\n",
    "    @timer\n",
    "    def run(self):\n",
    "        result = 0\n",
    "        for i in range(self.rng[0],self.rng[1]):\n",
    "            result += i\n",
    "        self.result = result\n",
    "\n",
    "    def get_result(self):\n",
    "        return self.result"
   ]
  },
  {
   "cell_type": "code",
   "execution_count": 12,
   "metadata": {},
   "outputs": [
    {
     "name": "stdout",
     "output_type": "stream",
     "text": [
      "start time:  1670763125.7980416\n",
      "start time:  1670763125.8099592\n",
      "1.7110648155212402\n",
      "1.723217248916626\n",
      "4999999950000000\n"
     ]
    }
   ],
   "source": [
    "t1 = ThreadWithReturn((0,5_000_000_0))\n",
    "t2 = ThreadWithReturn((5_000_000_0,10_000_000_0))\n",
    "t1.start()\n",
    "t2.start()\n",
    "t1.join()\n",
    "t2.join()\n",
    "print(t1.get_result()+t2.get_result())"
   ]
  },
  {
   "cell_type": "markdown",
   "metadata": {},
   "source": [
    "# 多线程开发"
   ]
  },
  {
   "cell_type": "markdown",
   "metadata": {},
   "source": [
    "默认是在主线程下创建子线程"
   ]
  },
  {
   "cell_type": "code",
   "execution_count": null,
   "metadata": {},
   "outputs": [],
   "source": [
    "import threading\n",
    "\n",
    "def task(arg):\n",
    "    pass\n",
    "\n",
    "t = threading.Thread(target=task, args=(1,))\n",
    "t.start()"
   ]
  },
  {
   "cell_type": "markdown",
   "metadata": {},
   "source": [
    "### `t.start()`: 当前线程准备就绪，等待CPU调度（由操作系统决定）"
   ]
  },
  {
   "cell_type": "code",
   "execution_count": 5,
   "metadata": {},
   "outputs": [
    {
     "name": "stdout",
     "output_type": "stream",
     "text": [
      "225780\n"
     ]
    }
   ],
   "source": [
    "import threading\n",
    "\n",
    "loop = 1_000_000\n",
    "number = 0\n",
    "\n",
    "def _add(count):\n",
    "    global number\n",
    "    for i in range(count):\n",
    "        number += 1\n",
    "\n",
    "t = threading.Thread(target=_add, args=(loop,))\n",
    "t.start()\n",
    "\n",
    "print(number)"
   ]
  },
  {
   "cell_type": "markdown",
   "metadata": {},
   "source": [
    "### `t.join()`: 等待当前线程的任务执行完毕后再向下继续执行"
   ]
  },
  {
   "cell_type": "code",
   "execution_count": 7,
   "metadata": {},
   "outputs": [
    {
     "name": "stdout",
     "output_type": "stream",
     "text": [
      "1000000\n"
     ]
    }
   ],
   "source": [
    "import threading\n",
    "\n",
    "loop = 1_000_000\n",
    "number = 0\n",
    "\n",
    "def _add(count):\n",
    "    global number\n",
    "    for i in range(count):\n",
    "        number += 1\n",
    "\n",
    "t = threading.Thread(target=_add, args=(loop,))\n",
    "t.start()\n",
    "t.join() # 主线程等待中\n",
    "print(number)"
   ]
  },
  {
   "cell_type": "code",
   "execution_count": 8,
   "metadata": {},
   "outputs": [
    {
     "name": "stdout",
     "output_type": "stream",
     "text": [
      "0\n"
     ]
    }
   ],
   "source": [
    "import threading\n",
    "\n",
    "loop = 1_000_000\n",
    "number = 0\n",
    "\n",
    "def _add(count):\n",
    "    global number\n",
    "    for i in range(count):\n",
    "        number += 1\n",
    "\n",
    "def _sub(count):\n",
    "    global number\n",
    "    for i in range(count):\n",
    "        number -= 1\n",
    "\n",
    "t1 = threading.Thread(target=_add, args=(loop,))\n",
    "t2 = threading.Thread(target=_sub, args=(loop,))\n",
    "\n",
    "t1.start()\n",
    "t1.join() # 主线程等待中\n",
    "t2.start()\n",
    "t2.join() # 主线程等待中\n",
    "\n",
    "print(number)"
   ]
  },
  {
   "cell_type": "code",
   "execution_count": 11,
   "metadata": {},
   "outputs": [
    {
     "name": "stdout",
     "output_type": "stream",
     "text": [
      "-536072\n"
     ]
    }
   ],
   "source": [
    "import threading\n",
    "\n",
    "loop = 1_000_000\n",
    "number = 0\n",
    "\n",
    "def _add(count):\n",
    "    global number\n",
    "    for i in range(count):\n",
    "        number += 1\n",
    "\n",
    "def _sub(count):\n",
    "    global number\n",
    "    for i in range(count):\n",
    "        number -= 1\n",
    "\n",
    "t1 = threading.Thread(target=_add, args=(loop,))\n",
    "t2 = threading.Thread(target=_sub, args=(loop,))\n",
    "\n",
    "t1.start()\n",
    "t2.start()\n",
    "t1.join() # 主线程等待中\n",
    "t2.join() # 主线程等待中\n",
    "\n",
    "print(number)"
   ]
  },
  {
   "cell_type": "markdown",
   "metadata": {},
   "source": [
    "### `t.daemon`: 守护线程，必须放在start之前\n",
    "`True`: 设置为守护线程，主线程执行完毕后，子线程也自动关闭  \n",
    "`False`: 设置为非守护线程，主线程等待子线程，子线程执行完毕后，主线程才结束（默认）  \n",
    "注意: notebook中无论如何都会执行完子线程"
   ]
  },
  {
   "cell_type": "code",
   "execution_count": 15,
   "metadata": {},
   "outputs": [
    {
     "name": "stdout",
     "output_type": "stream",
     "text": [
      "world\n"
     ]
    },
    {
     "name": "stdout",
     "output_type": "stream",
     "text": [
      "hello\n"
     ]
    }
   ],
   "source": [
    "import threading\n",
    "import time\n",
    "\n",
    "def task(arg):\n",
    "    time.sleep(2)\n",
    "    print('hello')\n",
    "\n",
    "t = threading.Thread(target=task, args=(1,))\n",
    "t.daemon = False # 设置为守护线程\n",
    "t.start()\n",
    "\n",
    "print('world')"
   ]
  },
  {
   "cell_type": "markdown",
   "metadata": {},
   "source": [
    "### `t.name`: 线程名称，必须放在start之前"
   ]
  },
  {
   "cell_type": "code",
   "execution_count": 18,
   "metadata": {},
   "outputs": [
    {
     "name": "stdout",
     "output_type": "stream",
     "text": [
      "thread-0\n",
      "thread-1\n",
      "thread-2\n"
     ]
    }
   ],
   "source": [
    "import threading\n",
    "\n",
    "def task(arg):\n",
    "    name = threading.current_thread().name\n",
    "    print(name)\n",
    "\n",
    "for i in range(3):\n",
    "    t = threading.Thread(target=task, args=(1,))\n",
    "    t.name = f'thread-{i}'\n",
    "    t.start()"
   ]
  },
  {
   "cell_type": "markdown",
   "metadata": {},
   "source": [
    "### 自定义线程类，直接将线程需要做的事写到run方法中"
   ]
  },
  {
   "cell_type": "code",
   "execution_count": 27,
   "metadata": {},
   "outputs": [
    {
     "name": "stdout",
     "output_type": "stream",
     "text": [
      "Thread-33\n",
      "('test',)\n"
     ]
    }
   ],
   "source": [
    "import threading\n",
    "\n",
    "class customThread(threading.Thread):\n",
    "    def run(self):\n",
    "        print(self.name)\n",
    "        print(self._args)\n",
    "\n",
    "t = customThread(args=('test',))\n",
    "t.start()"
   ]
  },
  {
   "cell_type": "markdown",
   "metadata": {},
   "source": [
    "# 线程安全\n",
    "前面同步执行示例中出现了结果混乱的现象。可以通过手动加锁，防止情况发生。"
   ]
  },
  {
   "cell_type": "code",
   "execution_count": 33,
   "metadata": {},
   "outputs": [
    {
     "name": "stdout",
     "output_type": "stream",
     "text": [
      "0\n"
     ]
    }
   ],
   "source": [
    "import threading\n",
    "\n",
    "lock_obj = threading.RLock() # 必须使用同一把锁\n",
    "def lock_decorator(func):\n",
    "    def inner(*args, **kwargs):\n",
    "        lock_obj.acquire() # 申请锁\n",
    "        func(*args, **kwargs)\n",
    "        lock_obj.release() # 释放锁\n",
    "    return inner\n",
    "\n",
    "loop = 1_000_000\n",
    "number = 0\n",
    "\n",
    "@lock_decorator\n",
    "def _add(count):\n",
    "    global number\n",
    "    for i in range(count):\n",
    "        number += 1\n",
    "\n",
    "@lock_decorator\n",
    "def _sub(count):\n",
    "    global number\n",
    "    for i in range(count):\n",
    "        number -= 1\n",
    "\n",
    "t1 = threading.Thread(target=_add, args=(loop,))\n",
    "t2 = threading.Thread(target=_sub, args=(loop,))\n",
    "\n",
    "t1.start()\n",
    "t2.start()\n",
    "t1.join() # 主线程等待中\n",
    "t2.join() # 主线程等待中\n",
    "\n",
    "print(number)"
   ]
  },
  {
   "cell_type": "markdown",
   "metadata": {},
   "source": [
    "有些操作默认是线程安全的（内部集成了锁），使用时无需再加锁。但要注意锁是如何加上的。如列表append，多线程会产生乱序结果。  \n",
    "多看官方文档。"
   ]
  },
  {
   "cell_type": "code",
   "execution_count": 37,
   "metadata": {},
   "outputs": [
    {
     "name": "stdout",
     "output_type": "stream",
     "text": [
      "1446203\n",
      "2000000\n"
     ]
    }
   ],
   "source": [
    "import threading\n",
    "\n",
    "lst = []\n",
    "\n",
    "def task():\n",
    "    for i in range(1_000_000):\n",
    "        lst.append(i)\n",
    "    print(len(lst))\n",
    "\n",
    "for i in range(2):\n",
    "    t = threading.Thread(target=task)\n",
    "    t.start()"
   ]
  },
  {
   "cell_type": "markdown",
   "metadata": {},
   "source": [
    "# 线程锁\n",
    "- Lock：同步锁（不支持嵌套，在调用带锁function时容易出现死锁）\n",
    "- RLock：递归锁"
   ]
  },
  {
   "cell_type": "markdown",
   "metadata": {},
   "source": [
    "# 死锁\n",
    "嵌套调用Lock出现死锁。  \n",
    "并不是说RLock就万事大吉了，因为竞争资源或者彼此通信也可能造成阻塞。比如func1先申请锁1后申请锁2，func2先申请锁2再申请锁1，就会造成卡死。"
   ]
  }
 ],
 "metadata": {
  "kernelspec": {
   "display_name": "Python 3.9.13 64-bit",
   "language": "python",
   "name": "python3"
  },
  "language_info": {
   "codemirror_mode": {
    "name": "ipython",
    "version": 3
   },
   "file_extension": ".py",
   "mimetype": "text/x-python",
   "name": "python",
   "nbconvert_exporter": "python",
   "pygments_lexer": "ipython3",
   "version": "3.9.13"
  },
  "orig_nbformat": 4,
  "vscode": {
   "interpreter": {
    "hash": "17c6bd37cce1594095a4df5b82ef148177df742015ffc157634d1742b9f5551e"
   }
  }
 },
 "nbformat": 4,
 "nbformat_minor": 2
}
